{
  "nbformat": 4,
  "nbformat_minor": 0,
  "metadata": {
    "colab": {
      "name": "Untitled2.ipynb",
      "provenance": [],
      "authorship_tag": "ABX9TyNyrWGjzGsUgTur18zBeIkU",
      "include_colab_link": true
    },
    "kernelspec": {
      "name": "python3",
      "display_name": "Python 3"
    },
    "language_info": {
      "name": "python"
    }
  },
  "cells": [
    {
      "cell_type": "markdown",
      "metadata": {
        "id": "view-in-github",
        "colab_type": "text"
      },
      "source": [
        "<a href=\"https://colab.research.google.com/github/AnyelusXD/Angular-Laravel-CRUD-Login/blob/main/Untitled2.ipynb\" target=\"_parent\"><img src=\"https://colab.research.google.com/assets/colab-badge.svg\" alt=\"Open In Colab\"/></a>"
      ]
    },
    {
      "cell_type": "code",
      "execution_count": 1,
      "metadata": {
        "id": "1jp4ySabKhH_"
      },
      "outputs": [],
      "source": [
        "import pandas as pd\n"
      ]
    },
    {
      "cell_type": "code",
      "source": [
        "df = pd.read_json(\"elections.json\")\n"
      ],
      "metadata": {
        "id": "hlkPr6TrLC-x"
      },
      "execution_count": 2,
      "outputs": []
    },
    {
      "cell_type": "code",
      "source": [
        "df['politicalParty'] = \"DEMOCRAT\"\n",
        "df['voteCount'] = df['democrat']\n"
      ],
      "metadata": {
        "id": "b5r4fixBR55V"
      },
      "execution_count": 3,
      "outputs": []
    },
    {
      "cell_type": "code",
      "source": [
        "print(df)"
      ],
      "metadata": {
        "id": "HqO7G1HZPra7"
      },
      "execution_count": null,
      "outputs": []
    },
    {
      "cell_type": "code",
      "source": [
        "df1 =df[['year','voteCount','politicalParty','codecounty']]"
      ],
      "metadata": {
        "id": "lmqDpCkpPMom"
      },
      "execution_count": 7,
      "outputs": []
    },
    {
      "cell_type": "code",
      "source": [
        "print(df1)"
      ],
      "metadata": {
        "id": "5gW6ZhSCUf0O"
      },
      "execution_count": null,
      "outputs": []
    },
    {
      "cell_type": "code",
      "source": [
        "df['politicalParty'] = \"REPUBLIC\"\n",
        "df['voteCount'] = df['republic']"
      ],
      "metadata": {
        "id": "GlfelptnWNmC"
      },
      "execution_count": 9,
      "outputs": []
    },
    {
      "cell_type": "code",
      "source": [
        "df2 =(df[['year','voteCount','politicalParty','codecounty']])"
      ],
      "metadata": {
        "id": "fmrslG9dPS0L"
      },
      "execution_count": 10,
      "outputs": []
    },
    {
      "cell_type": "code",
      "source": [
        "print(df2)"
      ],
      "metadata": {
        "id": "mssUcLRXPS9N"
      },
      "execution_count": null,
      "outputs": []
    },
    {
      "cell_type": "code",
      "source": [
        "df['politicalParty'] = \"OTHER\"\n",
        "df['voteCount'] = df['other']"
      ],
      "metadata": {
        "id": "WlpRZvKdWjZd"
      },
      "execution_count": 13,
      "outputs": []
    },
    {
      "cell_type": "code",
      "source": [
        "df3 =(df[['year','voteCount','politicalParty','codecounty']])"
      ],
      "metadata": {
        "id": "h8tu6gpzPidz"
      },
      "execution_count": 14,
      "outputs": []
    },
    {
      "cell_type": "code",
      "source": [
        "print(df3)"
      ],
      "metadata": {
        "id": "XHX7Uu8QPioS"
      },
      "execution_count": null,
      "outputs": []
    },
    {
      "cell_type": "code",
      "source": [
        "df1.to_csv('democrat.csv', encoding='utf-8')"
      ],
      "metadata": {
        "id": "l1boETN5XBid"
      },
      "execution_count": 16,
      "outputs": []
    },
    {
      "cell_type": "code",
      "source": [
        "df2.to_csv('republic.csv', encoding='utf-8')\n"
      ],
      "metadata": {
        "id": "JienbXPXXStM"
      },
      "execution_count": 17,
      "outputs": []
    },
    {
      "cell_type": "code",
      "source": [
        "df3.to_csv('other.csv', encoding='utf-8')"
      ],
      "metadata": {
        "id": "9xuL31sQXbh9"
      },
      "execution_count": 18,
      "outputs": []
    },
    {
      "cell_type": "code",
      "source": [
        "df4 = pd.concat([df1, df2, df3], axis=0)"
      ],
      "metadata": {
        "id": "4tGyU9mIYWIg"
      },
      "execution_count": 19,
      "outputs": []
    },
    {
      "cell_type": "code",
      "source": [
        "print (df4)"
      ],
      "metadata": {
        "id": "pohtOfw3ZXew"
      },
      "execution_count": null,
      "outputs": []
    },
    {
      "cell_type": "code",
      "source": [
        "df4.to_csv('completa.csv', encoding='utf-8')"
      ],
      "metadata": {
        "id": "28vzGz2tZ33V"
      },
      "execution_count": 21,
      "outputs": []
    }
  ]
}